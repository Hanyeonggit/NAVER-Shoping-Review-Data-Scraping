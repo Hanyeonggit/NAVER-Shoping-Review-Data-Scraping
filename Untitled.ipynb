{
 "cells": [
  {
   "cell_type": "code",
   "execution_count": 5,
   "id": "22e621d2-0d40-4deb-a5b3-1cff5fdfd1c8",
   "metadata": {},
   "outputs": [],
   "source": [
    "import pandas as pd"
   ]
  },
  {
   "cell_type": "code",
   "execution_count": 6,
   "id": "1184a958-7486-4f91-a3b6-48b735af8095",
   "metadata": {
    "tags": []
   },
   "outputs": [],
   "source": [
    "import sys"
   ]
  },
  {
   "cell_type": "code",
   "execution_count": 7,
   "id": "cd6ae0e6-5d61-4f36-832a-b0fc417d72a6",
   "metadata": {},
   "outputs": [],
   "source": [
    "from urllib.request import urlopen"
   ]
  },
  {
   "cell_type": "code",
   "execution_count": 9,
   "id": "69078af9-353e-40c0-b5ea-e159b53661b7",
   "metadata": {},
   "outputs": [
    {
     "ename": "NameError",
     "evalue": "name 'd' is not defined",
     "output_type": "error",
     "traceback": [
      "\u001b[1;31m---------------------------------------------------------------------------\u001b[0m",
      "\u001b[1;31mNameError\u001b[0m                                 Traceback (most recent call last)",
      "\u001b[1;32m<ipython-input-9-7acbc687d321>\u001b[0m in \u001b[0;36m<module>\u001b[1;34m\u001b[0m\n\u001b[1;32m----> 1\u001b[1;33m \u001b[0mencording\u001b[0m \u001b[1;33m=\u001b[0m \u001b[0md\u001b[0m\u001b[1;33m.\u001b[0m\u001b[0minfo\u001b[0m\u001b[1;33m(\u001b[0m\u001b[1;33m)\u001b[0m\u001b[1;33m.\u001b[0m\u001b[0mget_content_charset\u001b[0m\u001b[1;33m(\u001b[0m\u001b[0mfailobj\u001b[0m\u001b[1;33m=\u001b[0m\u001b[1;34m'utf-8'\u001b[0m\u001b[1;33m)\u001b[0m\u001b[1;33m\u001b[0m\u001b[1;33m\u001b[0m\u001b[0m\n\u001b[0m",
      "\u001b[1;31mNameError\u001b[0m: name 'd' is not defined"
     ]
    }
   ],
   "source": [
    "encording = d.info().get_content_charset(failobj='utf-8')"
   ]
  },
  {
   "cell_type": "code",
   "execution_count": 10,
   "id": "cf1b692f-eccd-47f0-90d3-09cea05008d4",
   "metadata": {},
   "outputs": [
    {
     "ename": "NameError",
     "evalue": "name 'encording' is not defined",
     "output_type": "error",
     "traceback": [
      "\u001b[1;31m---------------------------------------------------------------------------\u001b[0m",
      "\u001b[1;31mNameError\u001b[0m                                 Traceback (most recent call last)",
      "\u001b[1;32m<ipython-input-10-47763c34ad75>\u001b[0m in \u001b[0;36m<module>\u001b[1;34m\u001b[0m\n\u001b[1;32m----> 1\u001b[1;33m \u001b[0mencording\u001b[0m\u001b[1;33m\u001b[0m\u001b[1;33m\u001b[0m\u001b[0m\n\u001b[0m",
      "\u001b[1;31mNameError\u001b[0m: name 'encording' is not defined"
     ]
    }
   ],
   "source": [
    "encording"
   ]
  },
  {
   "cell_type": "code",
   "execution_count": 7,
   "id": "6ddead61-1f51-4af1-94b2-d5ba4b52341c",
   "metadata": {},
   "outputs": [],
   "source": [
    "text = d.read().decode(encording)"
   ]
  },
  {
   "cell_type": "code",
   "execution_count": 11,
   "id": "ec95df06-38ed-4611-98ea-1bf9ffce7ec5",
   "metadata": {},
   "outputs": [],
   "source": [
    "import requests\n",
    "import lxml.html\n",
    "import pandas as pd\n",
    "import sqlite3\n",
    "from pandas.io import sql\n",
    "import os"
   ]
  },
  {
   "cell_type": "code",
   "execution_count": 12,
   "id": "69398ab2-385e-4416-9b40-d945d097b1e1",
   "metadata": {},
   "outputs": [],
   "source": [
    "from selenium import webdriver"
   ]
  },
  {
   "cell_type": "code",
   "execution_count": 13,
   "id": "10d197d9-b4ac-46dd-825c-6ba653b2ce3d",
   "metadata": {},
   "outputs": [],
   "source": [
    "from selenium.webdriver.common.keys import Keys"
   ]
  },
  {
   "cell_type": "code",
   "execution_count": 14,
   "id": "92f9f316-c68e-45b3-8c8e-2c4471a46e61",
   "metadata": {},
   "outputs": [],
   "source": [
    "driver = webdriver.Chrome()"
   ]
  },
  {
   "cell_type": "code",
   "execution_count": 38,
   "id": "f2e2eec2-9938-4f74-a000-37f2325a2eb6",
   "metadata": {},
   "outputs": [],
   "source": [
    "from bs4 import BeautifulSoup\n",
    "from selenium import webdriver\n",
    "import pandas as pd\n",
    "from tqdm.notebook import tqdm\n",
    "import time\n",
    "import re\n",
    "import sys\n",
    "from selenium.webdriver.common.keys import Keys\n",
    "keys = Keys()"
   ]
  },
  {
   "cell_type": "code",
   "execution_count": 33,
   "id": "fc50350c-00d5-432f-9b76-64c8ebc0961f",
   "metadata": {},
   "outputs": [],
   "source": [
    "url = 'https://smartstore.naver.com/lambisyoung/products/4826427692?' #프리미엄 프렌치랙"
   ]
  },
  {
   "cell_type": "code",
   "execution_count": 39,
   "id": "c06862bd-7dce-4a27-9b18-75874ccf4ab0",
   "metadata": {},
   "outputs": [],
   "source": [
    "url = 'https://smartstore.naver.com/lambisyoung/products/5396809485' #프리미엄 샤슬릭"
   ]
  },
  {
   "cell_type": "code",
   "execution_count": 54,
   "id": "4931362c-0335-4bcb-b193-cbf50302c006",
   "metadata": {},
   "outputs": [],
   "source": [
    "url = 'https://smartstore.naver.com/lambisyoung/products/4826415053' #프리미엄 숄더랙"
   ]
  },
  {
   "cell_type": "code",
   "execution_count": 62,
   "id": "02bcf33a-c745-4fc2-9415-6a597daa5722",
   "metadata": {},
   "outputs": [],
   "source": [
    "url = 'https://smartstore.naver.com/lambisyoung/products/5396778396' #시그니쳐 양등심"
   ]
  },
  {
   "cell_type": "code",
   "execution_count": 70,
   "id": "f5863feb-29e7-4749-8913-f832fb010f04",
   "metadata": {},
   "outputs": [],
   "source": [
    "url = 'https://smartstore.naver.com/lambisyoung/products/4826004011' #프리미엄 시그니쳐 숄더랙"
   ]
  },
  {
   "cell_type": "code",
   "execution_count": 71,
   "id": "ee4a7486-9417-4400-bd09-98cc9f4a171c",
   "metadata": {},
   "outputs": [],
   "source": [
    "driver = webdriver.Chrome()\n",
    "driver.get(url)\n",
    "time.sleep(2)"
   ]
  },
  {
   "cell_type": "code",
   "execution_count": 1,
   "id": "ce28b2d7-bfc7-44bc-ad19-a8c4cb843347",
   "metadata": {},
   "outputs": [],
   "source": [
    "from selenium import webdriver"
   ]
  },
  {
   "cell_type": "code",
   "execution_count": null,
   "id": "a06a5974-04e1-4127-aba0-bfa5092ea739",
   "metadata": {},
   "outputs": [],
   "source": [
    "count = 0\n",
    "stop = int(input(\"몇 세트 크롤링 할까요?(1-11페이지가 한 세트: \"))\n",
    "next_btn = ['a:nth-child(2)', 'a:nth-child(3)', 'a:nth-child(4)', 'a:nth-child(5)', 'a:nth-child(6)', 'a:nth-child(7)', \n",
    "            'a:nth-child(8)', 'a:nth-child(9)', 'a:nth-child(10)', 'a.fAUKm1ewwo._2Ar8-aEUTq']\n",
    "review_list = []\n",
    "\n",
    "while count < stop:\n",
    "    for pagenum in next_btn:\n",
    "        driver.find_element_by_css_selector('#REVIEW > div > div._2y6yIawL6t > div > div.cv6id6JEkg > div > div > '+str(pagenum)+'').send_keys(keys.ENTER)\n",
    "        time.sleep(2)\n",
    "        for i in range(0,20):\n",
    "                html = driver.page_source\n",
    "                soup = BeautifulSoup(html, \"html.parser\")\n",
    "                review = soup.find_all('div', class_='_1-CNpGwOcC')\n",
    "                review = review[i].text\n",
    "                review = re.sub('[^#0-9a-zA-Zㄱ-ㅣ가-힣]', \" \", review)\n",
    "                review_list.append(review)\n",
    "    count = count + 1\n",
    "    "
   ]
  },
  {
   "cell_type": "code",
   "execution_count": 66,
   "id": "8af9f293-8a53-44be-8acd-9c9ab93531a5",
   "metadata": {},
   "outputs": [
    {
     "data": {
      "text/plain": [
       "['리뷰 더보기 접기평점5thsg    21 09 27 신고재구매캠핑갈 때 늘 주문하는 고기입니다  이번에는 연태고량주와 함께 먹어봤어요    와    진짜 여기 양고기는 최고에요  지인들한테 많이 소개했는데 다들 최고라고 극찬했어요  번창하세요  이미지 펼쳐보기0리뷰가 도움이 되었나요 판매자21 09 27 신고안녕하세요 양은젊다 입니다    캠핑갈 때 양은젊다 제품만한 게 없죠 ㅎㅎ 연태고량주    저도 참 좋아하는데 저희 양고기와 조합이 사실 엄청나거든요 지인분들께 추천도 해주시고 저희를 찾아주셔서 감사합니다  작성자님 말씀대로 번창해서 더욱 낭만적인 양갈비를 보내드릴 수 있도록 노력하겠습니다  감사합니다   더보기',\n",
       " '리뷰 더보기 접기평점5choc    21 10 12 신고포장 깔끔하니  맛있게 먹어보겠습니다 이미지 펼쳐보기0리뷰가 도움이 되었나요 판매자21 10 14 신고안녕하세요 양은젊다 입니다    깔끔한 포장은 물론이고 좋은 품질의 고기를 보내드리기 위해서 노력했습니다 맛있게 즐겨주셨으면 좋겠어요 ㅎㅎ 감사합니다   ',\n",
       " '평점5zer0    21 10 12 신고추석에 선물했는데 너무 만족하셨어요 추천합니다 0리뷰가 도움이 되었나요 판매자21 10 13 신고안녕하세요 양은젊다 입니다    추석 선물로 저희 양은젊다를 선택하신 게 만족하셨다니 감사합니다  앞으로도 좋은 품질  좋은 정성으로 보답하겠습니다 감사합니다   ',\n",
       " '리뷰 더보기 접기평점5thsg    21 09 06 신고BEST재구매캠핑갈 때에는 항상 구입하는 양고기입니다  아이들이 있어서 안심 출시 이후에는 안심만 구매해요  뼈 발리지 않고 편하게 먹을 수 있어서 정말 좋아요 맛이야 뭐    최고죠  ㅎㅎ 항상 맛있게 잘 먹고 있습니다  번창하세요  더보기이미지 펼쳐보기0리뷰가 도움이 되었나요 판매자21 09 06 신고안녕하세요 양은 젊다입니다    정성스러운 리뷰와 답변 감사드립니다  오늘도 즐거운 하루보내세요   ',\n",
       " '리뷰 더보기 접기평점5zer0    21 09 13 신고스테이크는 첨 시켜봤는데 이것도 맛있네요 생각보다 고기가 두껍지는 않습니다  참고하세요이미지 펼쳐보기0리뷰가 도움이 되었나요 판매자21 09 13 신고안녕하세요 양은 젊다입니다    정성스러운 리뷰와 답변 감사드립니다  오늘도 즐거운 하루 보내세요   ',\n",
       " '리뷰 더보기 접기평점5wlsr    21 09 03 신고두번째 구입 이어요 역시 맛나요 ㅎㅎ사진 비디오 수5이미지 펼쳐보기0리뷰가 도움이 되었나요 판매자21 09 04 신고안녕하세요 양은 젊다입니다    정성스러운 리뷰와 답변 감사드립니다  오늘도 즐거운 하루보내세요   ',\n",
       " '평점5guil    21 10 13 신고늘믿고 먹습니다 정말 최고예요0리뷰가 도움이 되었나요 판매자21 10 14 신고안녕하세요 양은젊다 입니다    항상 믿고 응원해주셔서 감사할 따름입니다 그 믿음 저버리지 않도록 더 열심히 하겠습니다  감사합니다 ㅎㅎ',\n",
       " '평점5zer0    21 10 12 신고너무너무맛있었습니다 추천해요0리뷰가 도움이 되었나요 판매자21 10 13 신고안녕하세요 양은젊다 입니다    맛있게 즐기셨다니 다행이네요 ㅎㅎ 추천해주셔서 감사합니다  앞으로도 더 발전하는 양은젊다가 되겠습니다   ',\n",
       " '평점5moon    21 09 13 신고맛있네요  개인적으로는 갈비가 더 좋긴했지만    맛있었어요  부드럽고   0리뷰가 도움이 되었나요 판매자21 09 13 신고안녕하세요 양은 젊다입니다    정성스러운 리뷰와 답변 감사드립니다  오늘도 즐거운 하루보내세요   ',\n",
       " '리뷰 더보기 접기평점5pasi    21 07 30 신고싱싱하고 부모님 진짜 맛있다고 또 사먹자고 하시내요 입짧은 딸도  집에와서 양고기 언제또 사줄꺼냐고하구요 훌륭해요   사진 비디오 수2이미지 펼쳐보기0리뷰가 도움이 되었나요 판매자21 08 02 신고안녕하세요 양은 젊다입니다    정성스러운 리뷰와 답변 감사드립니다  오늘도 즐거운 하루 보내세요   ',\n",
       " '리뷰 더보기 접기평점5caos    21 06 26 신고포장이 진짜 받으면 기분좋게 만들어요  등심이 기름이가 적어서 그런지 다른 부위보다 맛이 약하다고 생각했는데 남은 고기 다음날 렌지에 데워먹으니 양고기향도 좋고 너무 맛있더라고요  잘먹었습니다사진 비디오 수2이미지 펼쳐보기0리뷰가 도움이 되었나요 판매자21 06 28 신고안녕하세요 양은 젊다입니다    정성스러운 리뷰 감사드립니다  오늘도 즐거운 하루 보내세요   ',\n",
       " '리뷰 더보기 접기평점5funk    21 06 23 신고맛있게 잘먹었습니다 종종 또 주문하게 될꺼같네요사진 비디오 수6이미지 펼쳐보기0리뷰가 도움이 되었나요 판매자21 06 28 신고안녕하세요 양은 젊다입니다    정성스러운 리뷰 감사드립니다  오늘도 즐거운 하루 보내세요   ',\n",
       " '평점5511j    21 07 10 신고언제나 굿입니다  좋아요0리뷰가 도움이 되었나요 판매자21 07 14 신고안녕하세요 양은젊다입니다   정성스러운 리뷰 감사합니다  오늘도 즐거운 하루보내세요  ',\n",
       " '리뷰 더보기 접기평점3alov    21 05 30 신고진공이 살짝 풀려있었고 너무 기대해서 그런지 실망했네요   양 냄새가 아예 안날 순 없겠지만 거의 안날줄 알았는데 냄새 때문에 젓가락이 잘 안갔네요이미지 펼쳐보기0리뷰가 도움이 되었나요 판매자21 05 31 신고안녕하세요 양은젊다입니다  소중한 피드백으로 발전하는 양은 젊다가 되도록 노력하겠습니다  감사합니다 ',\n",
       " '리뷰 더보기 접기평점5kima    21 06 01 신고맛있고 포장상태좋아요이미지 펼쳐보기0리뷰가 도움이 되었나요 판매자21 06 04 신고안녕하세요 양은 젊다입니다    정성스러운 리뷰와 답변 감사드립니다  오늘도 즐거운 하루 보내세요   ',\n",
       " '리뷰 더보기 접기평점5ceol    21 04 09 신고BEST예전에 주문하고 재주문했는데 역시나 너무 맛있네요  양꼬치랑 양등심은 둘다 처음 주문했는데 정말 맛있습니다  양 냄새도 안나고 고기도 정말 부드러워요  포장이나 배송도 완벽합니다  양고기는 여기 아니면 안 먹을것같네요  옵션으로 늑간살도 주문했는데 정말 맛있습니다  술안주로 정말 좋아요  모든면에서 만족했고 재주문의사 100프롭니다 사진 비디오 수8이미지 펼쳐보기1리뷰가 도움이 되었나요 판매자21 04 09 신고안녕하세요 양은 젊다입니다    정성스러운 리뷰 감사드립니다  오늘도 행복한 하루 보내세요   ',\n",
       " '평점5silv    21 06 13 신고등심도 생각보다 괜찮네요 잘먹었습니다0리뷰가 도움이 되었나요 판매자21 06 14 신고안녕하세요 양은 젊다입니다    정성스러운 리뷰 감사드립니다  오늘도 즐거운 하루 보내세요  ',\n",
       " '리뷰 더보기 접기평점54514    21 04 09 신고BEST아니 이거 뭐죠   이거 진짜 맛있네요 고기남자 양고기편 보고 해보고싶은게 있어서 주문하고 그냥 귀찮아서 그냥 소금후추만해서 구워서 먹어봤는데 양고기 특유 터지는 맛있는 고소한 기름맛이 너무 담백하니 맛있네요 가족과 구워먹는데 평소 양고기집가서 구이로 먹는것보다 훨씬 맛있었고 저희 동생이 양냄새에 진짜 엄청 예민한데 어린양이라 그런지 잡내가 없다고 그러더군요 저도 마찬가지로 이런 양고기는 처음먹어봅니다  가격도 너무 합리적이고 포장도 너무 고급져서 주변 좋은분들께 선물용으로도 딱이네요 저희 상사님 생일때 보내드려야겠어요 단골 예약하겠습니다 살면서 처음 이렇게 리뷰쓰게 만드네요 너무 잘먹었습니다   감사합니다더보기이미지 펼쳐보기0리뷰가 도움이 되었나요 판매자21 04 09 신고안녕하세요 양은 젊다입니다    정성스러운 리뷰 감사드립니다  오늘도 행복한 하루 보내세요   ',\n",
       " '리뷰 더보기 접기평점5kgaw    21 05 13 신고항상 양고기는 양은젊다에서 시켜먹어요  포장도 꼼꼼하게 해주시고  배송도 빠른 편입니다 이미지 펼쳐보기0리뷰가 도움이 되었나요 판매자21 05 17 신고안녕하세요 양은 젊다입니다    정성스러운 리뷰 감사드립니다  오늘도 즐거운 하루 보내세요   ',\n",
       " '리뷰 더보기 접기평점5oioi    21 04 11 신고 시그니쳐 양등심 스테이크   같이 먹을사람이 없어 혼자 다 먹었습니다  그래도 행복한 맛이네요  일단 핏물을 좀 뺀뒤 올리브오일 소금 후추 바질 밑간 해서 마리네이드를 시켜줬습니다   6시간 정도 재워놓으니까 간이 딱 좋네요  집에 있는 에어프라이어 160도 15분   후라이팬에 버터 놓고 조금 구우니까 환상이네요 ㅜ 캠핑 갈때 종종 챙겨갈거 같아요 사장님 ㅎㅎ더보기이미지 펼쳐보기0리뷰가 도움이 되었나요 판매자21 04 15 신고안녕하세요 양은 젊다입니다    정성스러운 리뷰 감사드립니다  오늘도 즐거운 하루 되세요  ',\n",
       " '평점5amin    21 04 14 신고진짜 너무 맛있습니다   ㅠㅠㅠ 인생 고기에요 시중에 파는 양고기 먹었을 때는 비린내도 많이 나고 많이 질겨서 양등심에 대한 인식이 안 좋았는데 양은 젊다에서 파는 양등심 스테이크 먹고나서는 항상 여기꺼만 시켜요  다들 추천드립니다 꼭 먹어보세요 ㅠㅠ0리뷰가 도움이 되었나요 판매자21 04 15 신고안녕하세요 양은 젊다입니다    정성스러운 리뷰 감사드립니다  오늘도 즐거운 하루 되세요  ',\n",
       " '평점5thsg    21 04 13 신고양고기는 여기서만 시켜먹어요    정말 맛있습니다    이번에는 등심이 새로 나왔길래 주문해봤는데    와 이거 정말 대박이에요   앞으로도 자주 이용하겠습니다  0리뷰가 도움이 되었나요 판매자21 04 15 신고안녕하세요 양은 젊다입니다    정성스러운 리뷰 감사드립니다  오늘도 즐거운 하루 되세요  ',\n",
       " '평점4comm    21 04 26 신고맛은 나쁘지 않지만 숄더랙이 더 나은거 같아요 0리뷰가 도움이 되었나요 판매자21 04 27 신고안녕하세요 양은 젊다입니다    정성스러운 리뷰 감사드립니다  오늘도 즐거운 하루 보내세요   ',\n",
       " '평점5zmfl    21 04 11 신고거짓말 없이 소고기 등심보다 맛있는 양고기는 처음이네요    하    진짜 무지껀 재구매 할거에요   등심 진짜 하    먹어본사람만 알거에요    소 돼지 빠이   이제는 무지껀 양고기   0리뷰가 도움이 되었나요 판매자21 04 15 신고안녕하세요 양은 젊다입니다    정성스러운 리뷰 감사드립니다  오늘도 즐거운 하루 되세요  ',\n",
       " '평점5ansd    21 04 09 신고포장도 받아보니 이쁘게 되어있었고 향신료안에있는 와사비랑 쯔란에 찍어먹으니 엄청 맛있었습니다   다음에도 주문하겠습니다  1리뷰가 도움이 되었나요 판매자21 04 09 신고안녕하세요 양은 젊다입니다    정성스러운 리뷰 감사드립니다  오늘도 행복한 하루 보내세요   ',\n",
       " '평점5ghdw    21 04 09 신고가족들 모두 호불호 없이 다들 맛있게 먹었습니다   다음에 재구매할게요  1리뷰가 도움이 되었나요 판매자21 04 09 신고안녕하세요 양은 젊다입니다    정성스러운 리뷰 감사드립니다  오늘도 행복한 하루 보내세요   ',\n",
       " '평점5att8    21 04 09 신고배송도 빠르고 고기비린내도 없어서 맛있게 잘먹었네요0리뷰가 도움이 되었나요 판매자21 04 09 신고안녕하세요 양은 젊다입니다    정성스러운 리뷰 감사드립니다  오늘도 행복한 하루 보내세요   ',\n",
       " '리뷰 더보기 접기평점5jyh1    21 03 05 신고마리네이드해서 먹었구요 처음익힐때 좀바짝익혀야 맛있는거ㅛ같아요 시즈닝잘되라고 고기조각내서 주셨다고 하네요이미지 펼쳐보기1리뷰가 도움이 되었나요 판매자21 03 31 신고안녕하세요 양은 젊다입니다    정성스러운 리뷰 감사합니다  오늘도 즐거운 하루 보내세요   ',\n",
       " '평점5tazm    21 03 30 신고포장 잘 되어 있고 배송도 빨랐어요0리뷰가 도움이 되었나요 판매자21 03 31 신고안녕하세요 양은 젊다입니다    정성스러운 리뷰 감사합니다  오늘도 즐거운 하루 보내세요   ',\n",
       " '평점4pyj4    21 02 27 신고양이 너무 적어요  500g은 맞는데 양이 적긴 적네요 품질이 좋으니 만족할게요1리뷰가 도움이 되었나요 판매자21 03 03 신고안녕하세요 양은 젊다입니다    꾸준히 좋은 품질의 고기를 고수하며  양도 챙길수 있도록 노력하겠습니다  감사합니다   ']"
      ]
     },
     "execution_count": 66,
     "metadata": {},
     "output_type": "execute_result"
    }
   ],
   "source": [
    "review_list"
   ]
  },
  {
   "cell_type": "code",
   "execution_count": 73,
   "id": "c0b08ce0-ba8a-4e5b-a480-c6572fa50c50",
   "metadata": {},
   "outputs": [],
   "source": [
    "review = pd.DataFrame({'리뷰':review_list})"
   ]
  },
  {
   "cell_type": "code",
   "execution_count": 74,
   "id": "cd93dc2e-65aa-4b83-afc7-e6ba3faa9539",
   "metadata": {},
   "outputs": [
    {
     "data": {
      "text/html": [
       "<div>\n",
       "<style scoped>\n",
       "    .dataframe tbody tr th:only-of-type {\n",
       "        vertical-align: middle;\n",
       "    }\n",
       "\n",
       "    .dataframe tbody tr th {\n",
       "        vertical-align: top;\n",
       "    }\n",
       "\n",
       "    .dataframe thead th {\n",
       "        text-align: right;\n",
       "    }\n",
       "</style>\n",
       "<table border=\"1\" class=\"dataframe\">\n",
       "  <thead>\n",
       "    <tr style=\"text-align: right;\">\n",
       "      <th></th>\n",
       "      <th>리뷰</th>\n",
       "    </tr>\n",
       "  </thead>\n",
       "  <tbody>\n",
       "    <tr>\n",
       "      <th>0</th>\n",
       "      <td>리뷰 더보기 접기평점5nurs    21 09 23 신고맛은 더 이상 비교 불가죠 ...</td>\n",
       "    </tr>\n",
       "    <tr>\n",
       "      <th>1</th>\n",
       "      <td>리뷰 더보기 접기평점5bara    21 10 09 신고포장이 깔끔하고 고기가 너뮤...</td>\n",
       "    </tr>\n",
       "    <tr>\n",
       "      <th>2</th>\n",
       "      <td>리뷰 더보기 접기평점5choc    21 10 12 신고포장 깔끔하니  맛있게 먹어...</td>\n",
       "    </tr>\n",
       "    <tr>\n",
       "      <th>3</th>\n",
       "      <td>리뷰 더보기 접기평점5bell    21 10 10 신고두번째 주문했어요  맛있어요...</td>\n",
       "    </tr>\n",
       "    <tr>\n",
       "      <th>4</th>\n",
       "      <td>리뷰 더보기 접기평점5hams    21 09 23 신고숄더렉과 샤슬릭 두가지 주문...</td>\n",
       "    </tr>\n",
       "    <tr>\n",
       "      <th>...</th>\n",
       "      <td>...</td>\n",
       "    </tr>\n",
       "    <tr>\n",
       "      <th>639</th>\n",
       "      <td>평점5ums1    20 02 26 신고양꼬치집에서 먹던 양갈비와는 격이 틀려요 부...</td>\n",
       "    </tr>\n",
       "    <tr>\n",
       "      <th>640</th>\n",
       "      <td>평점5z sa    20 03 12 신고포장이 예쁘게 되어 있어 선물용으로도 좋고 ...</td>\n",
       "    </tr>\n",
       "    <tr>\n",
       "      <th>641</th>\n",
       "      <td>평점5lakj    20 03 08 신고배송도 너무 빠르고 양도 넉넉합니다  2박스...</td>\n",
       "    </tr>\n",
       "    <tr>\n",
       "      <th>642</th>\n",
       "      <td>평점5rhkd    20 03 12 신고고급스러운 포장 만족합니다 2리뷰가 도움이 ...</td>\n",
       "    </tr>\n",
       "    <tr>\n",
       "      <th>643</th>\n",
       "      <td>평점5tlth    20 02 23 신고포장도 너무 예쁘고 정성이 들어가 있는 것 ...</td>\n",
       "    </tr>\n",
       "  </tbody>\n",
       "</table>\n",
       "<p>644 rows × 1 columns</p>\n",
       "</div>"
      ],
      "text/plain": [
       "                                                    리뷰\n",
       "0    리뷰 더보기 접기평점5nurs    21 09 23 신고맛은 더 이상 비교 불가죠 ...\n",
       "1    리뷰 더보기 접기평점5bara    21 10 09 신고포장이 깔끔하고 고기가 너뮤...\n",
       "2    리뷰 더보기 접기평점5choc    21 10 12 신고포장 깔끔하니  맛있게 먹어...\n",
       "3    리뷰 더보기 접기평점5bell    21 10 10 신고두번째 주문했어요  맛있어요...\n",
       "4    리뷰 더보기 접기평점5hams    21 09 23 신고숄더렉과 샤슬릭 두가지 주문...\n",
       "..                                                 ...\n",
       "639  평점5ums1    20 02 26 신고양꼬치집에서 먹던 양갈비와는 격이 틀려요 부...\n",
       "640  평점5z sa    20 03 12 신고포장이 예쁘게 되어 있어 선물용으로도 좋고 ...\n",
       "641  평점5lakj    20 03 08 신고배송도 너무 빠르고 양도 넉넉합니다  2박스...\n",
       "642  평점5rhkd    20 03 12 신고고급스러운 포장 만족합니다 2리뷰가 도움이 ...\n",
       "643  평점5tlth    20 02 23 신고포장도 너무 예쁘고 정성이 들어가 있는 것 ...\n",
       "\n",
       "[644 rows x 1 columns]"
      ]
     },
     "execution_count": 74,
     "metadata": {},
     "output_type": "execute_result"
    }
   ],
   "source": [
    "review"
   ]
  },
  {
   "cell_type": "code",
   "execution_count": 75,
   "id": "e145f934-2da4-43c8-8c3c-22dfe91ea08a",
   "metadata": {},
   "outputs": [],
   "source": [
    "review.to_csv(\"C:/Users/hanyeong/Desktop/양은젊다 리뷰_시그니처숄더랙.csv\", encoding = 'CP949')"
   ]
  },
  {
   "cell_type": "code",
   "execution_count": null,
   "id": "541d91ea-19be-48d7-88e8-3b387c9dce41",
   "metadata": {},
   "outputs": [],
   "source": [
    "review_1 = review.DataFrame()"
   ]
  }
 ],
 "metadata": {
  "kernelspec": {
   "display_name": "Python 3",
   "language": "python",
   "name": "python3"
  },
  "language_info": {
   "codemirror_mode": {
    "name": "ipython",
    "version": 3
   },
   "file_extension": ".py",
   "mimetype": "text/x-python",
   "name": "python",
   "nbconvert_exporter": "python",
   "pygments_lexer": "ipython3",
   "version": "3.8.8"
  }
 },
 "nbformat": 4,
 "nbformat_minor": 5
}
