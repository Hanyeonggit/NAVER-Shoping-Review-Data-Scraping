{
 "cells": [
  {
   "cell_type": "code",
   "execution_count": 38,
   "id": "f2e2eec2-9938-4f74-a000-37f2325a2eb6",
   "metadata": {},
   "outputs": [],
   "source": [
    "from bs4 import BeautifulSoup\n",
    "from selenium import webdriver\n",
    "import pandas as pd\n",
    "from tqdm.notebook import tqdm\n",
    "import time\n",
    "import re\n",
    "import sys\n",
    "from selenium.webdriver.common.keys import Keys\n",
    "keys = Keys()"
   ]
  },
  {
   "cell_type": "code",
   "execution_count": 33,
   "id": "fc50350c-00d5-432f-9b76-64c8ebc0961f",
   "metadata": {},
   "outputs": [],
   "source": [
    "url = 'You wanted page url'"
   ]
  },
  {
   "cell_type": "code", 
   "execution_count": 71,
   "id": "ee4a7486-9417-4400-bd09-98cc9f4a171c",
   "metadata": {},
   "outputs": [],
   "source": [
    "driver = webdriver.Chrome()\n",
    "driver.get(url)\n",
    "time.sleep(2)"
   ]
  },
  {
   "cell_type": "code",
   "execution_count": 1,
   "id": "ce28b2d7-bfc7-44bc-ad19-a8c4cb843347",
   "metadata": {},
   "outputs": [],
   "source": [
    "from selenium import webdriver"
   ]
  },
  {
   "cell_type": "code",
   "execution_count": null,
   "id": "a06a5974-04e1-4127-aba0-bfa5092ea739",
   "metadata": {},
   "outputs": [],
   "source": [
    "count = 0\n",
    "stop = int(input(\"How much is crawling set? (1-11page per 1 set: \"))\n",
    "next_btn = ['a:nth-child(2)', 'a:nth-child(3)', 'a:nth-child(4)', 'a:nth-child(5)', 'a:nth-child(6)', 'a:nth-child(7)', \n",
    "            'a:nth-child(8)', 'a:nth-child(9)', 'a:nth-child(10)', 'a.fAUKm1ewwo._2Ar8-aEUTq']\n",
    "review_list = []\n",
    "\n",
    "while count < stop:\n",
    "    for pagenum in next_btn:\n",
    "        driver.find_element_by_css_selector('#REVIEW > div > div._2y6yIawL6t > div > div.cv6id6JEkg > div > div > '+str(pagenum)+'').send_keys(keys.ENTER)\n",
    "        time.sleep(2)\n",
    "        for i in range(0,20):\n",
    "                html = driver.page_source\n",
    "                soup = BeautifulSoup(html, \"html.parser\")\n",
    "                review = soup.find_all('div', class_='_1-CNpGwOcC')\n",
    "                review = review[i].text\n",
    "                review = re.sub('[^#0-9a-zA-Zㄱ-ㅣ가-힣]', \" \", review)\n",
    "                review_list.append(review)\n",
    "    count = count + 1\n",
    "    "
   ]
  },
  {
   "cell_type": "code",
   "execution_count": 73,
   "id": "c0b08ce0-ba8a-4e5b-a480-c6572fa50c50",
   "metadata": {},
   "outputs": [],
   "source": [
    "review = pd.DataFrame({'리뷰':review_list})"
   ]
  },
  {
   "cell_type": "code",
   "execution_count": 2,
   "id": "6eece4f7-de15-4a57-a2e4-d2cfd61dd8cb",
   "metadata": {},
   "outputs": [
    {
     "ename": "NameError",
     "evalue": "name 'review_list' is not defined",
     "output_type": "error",
     "traceback": [
      "\u001b[1;31m---------------------------------------------------------------------------\u001b[0m",
      "\u001b[1;31mNameError\u001b[0m                                 Traceback (most recent call last)",
      "\u001b[1;32m<ipython-input-2-c20163abb833>\u001b[0m in \u001b[0;36m<module>\u001b[1;34m\u001b[0m\n\u001b[1;32m----> 1\u001b[1;33m \u001b[0mreview_list\u001b[0m\u001b[1;33m\u001b[0m\u001b[1;33m\u001b[0m\u001b[0m\n\u001b[0m",
      "\u001b[1;31mNameError\u001b[0m: name 'review_list' is not defined"
     ]
    }
   ],
   "source": [
    "review_list"
   ]
  },
  {
   "cell_type": "code",
   "execution_count": 74,
   "id": "d3f3678a-3fb4-40b7-9ae4-1bc80546496c",
   "metadata": {},
   "outputs": [],
   "source": [
    "review"
   ]
  },
  {
   "cell_type": "code",
   "execution_count": 75,
   "id": "e145f934-2da4-43c8-8c3c-22dfe91ea08a",
   "metadata": {},
   "outputs": [],
   "source": [
    "review.to_csv(\"FileName.csv\", encoding = 'CP949')"
   ]
  }
 ],
 "metadata": {
  "kernelspec": {
   "display_name": "Python 3",
   "language": "python",
   "name": "python3"
  },
  "language_info": {
   "codemirror_mode": {
    "name": "ipython",
    "version": 3
   },
   "file_extension": ".py",
   "mimetype": "text/x-python",
   "name": "python",
   "nbconvert_exporter": "python",
   "pygments_lexer": "ipython3",
   "version": "3.8.8"
  }
 },
 "nbformat": 4,
 "nbformat_minor": 5
}
